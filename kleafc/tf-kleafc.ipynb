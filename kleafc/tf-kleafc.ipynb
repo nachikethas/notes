{
 "cells": [
  {
   "cell_type": "markdown",
   "metadata": {},
   "source": [
    "# Setup"
   ]
  },
  {
   "cell_type": "code",
   "execution_count": 1,
   "metadata": {
    "collapsed": true
   },
   "outputs": [],
   "source": [
    "import tensorflow as tf\n",
    "import numpy as np\n",
    "import pandas as pd\n",
    "from sklearn.preprocessing import LabelEncoder\n",
    "from sklearn.preprocessing import StandardScaler"
   ]
  },
  {
   "cell_type": "code",
   "execution_count": 2,
   "metadata": {
    "collapsed": true
   },
   "outputs": [],
   "source": [
    "# Suppress Warning messagaes\n",
    "tf.logging.set_verbosity(tf.logging.ERROR)"
   ]
  },
  {
   "cell_type": "markdown",
   "metadata": {},
   "source": [
    "# Set Parameters"
   ]
  },
  {
   "cell_type": "code",
   "execution_count": 3,
   "metadata": {
    "collapsed": true
   },
   "outputs": [],
   "source": [
    "NUM_LABELS = 99      # number of classes\n",
    "VAL_FRAC = 0.1       # fraction of input set aside for cross validation"
   ]
  },
  {
   "cell_type": "markdown",
   "metadata": {},
   "source": [
    "# Read and Scale Dataset"
   ]
  },
  {
   "cell_type": "code",
   "execution_count": 4,
   "metadata": {
    "collapsed": false
   },
   "outputs": [],
   "source": [
    "train_file = \"data/train.csv\"\n",
    "test_file = \"data/test.csv\"\n",
    "train = pd.read_csv(train_file)\n",
    "test = pd.read_csv(test_file)\n",
    "test_ids = test['id']"
   ]
  },
  {
   "cell_type": "code",
   "execution_count": 5,
   "metadata": {
    "collapsed": false
   },
   "outputs": [],
   "source": [
    "x_train = train.drop(['species', 'id'], axis=1).values\n",
    "le = LabelEncoder().fit(train['species'])\n",
    "y_train = le.transform(train['species'])"
   ]
  },
  {
   "cell_type": "code",
   "execution_count": 6,
   "metadata": {
    "collapsed": false
   },
   "outputs": [],
   "source": [
    "x_test = test.drop(['id'], axis=1).values"
   ]
  },
  {
   "cell_type": "code",
   "execution_count": 7,
   "metadata": {
    "collapsed": false
   },
   "outputs": [],
   "source": [
    "scaler = StandardScaler().fit(x_train)\n",
    "x_train = scaler.transform(x_train)\n",
    "x_test = scaler.transform(x_test)"
   ]
  },
  {
   "cell_type": "markdown",
   "metadata": {},
   "source": [
    "# Cross Validation Set"
   ]
  },
  {
   "cell_type": "code",
   "execution_count": 8,
   "metadata": {
    "collapsed": false
   },
   "outputs": [],
   "source": [
    "num_data = x_train.shape[0]\n",
    "num_features = x_train.shape[1]\n",
    "\n",
    "num_cv = int(np.around(num_data * VAL_FRAC))\n",
    "num_train = num_data - num_cv"
   ]
  },
  {
   "cell_type": "code",
   "execution_count": 9,
   "metadata": {
    "collapsed": false
   },
   "outputs": [],
   "source": [
    "ind_cv = np.random.choice(num_data, num_cv, replace=False)\n",
    "ind_tr = np.delete(np.arange(num_data), ind_cv)\n",
    "\n",
    "x_cv = x_train[ind_cv, :]\n",
    "y_cv = y_train[ind_cv]\n",
    "\n",
    "x_tr = x_train[ind_tr, :]\n",
    "y_tr = y_train[ind_tr]"
   ]
  },
  {
   "cell_type": "markdown",
   "metadata": {},
   "source": [
    "# Fit model"
   ]
  },
  {
   "cell_type": "code",
   "execution_count": 10,
   "metadata": {
    "collapsed": true
   },
   "outputs": [],
   "source": [
    "# Specify the data to be used.\n",
    "# x_train: contains the full training data\n",
    "# x_cv: contains the cross validation data\n",
    "# x_tr: contains the remaining training data\n",
    "X = x_tr\n",
    "Y = y_tr"
   ]
  },
  {
   "cell_type": "code",
   "execution_count": 11,
   "metadata": {
    "collapsed": false
   },
   "outputs": [],
   "source": [
    "# Specify that all features have real-value data\n",
    "feature_columns = [tf.contrib.layers.real_valued_column(\"\", dimension=num_features)]\n",
    "\n",
    "# Choose optimizer\n",
    "\n",
    "#opt_adam = tf.train.AdamOptimizer(learning_rate=1e-4, epsilon=1e-4)\n",
    "#opt_adagrad = tf.train.AdagradOptimizer(learning_rate=1e-1)\n",
    "#opt_adadelta = tf.train.AdadeltaOptimizer(learning_rate=1e-1)\n",
    "\n",
    "# Choose DNN Sturcture\n",
    "nn_wide = [4096, 2048]\n",
    "nn_mid = [2048, 1024, 512]\n",
    "nn_narrow = [1024, 512, 256, 512]\n",
    "\n",
    "# Dropout Rate\n",
    "dropout = 0.1\n",
    "\n",
    "# Number of training steps\n",
    "steps_tr = 1000"
   ]
  },
  {
   "cell_type": "code",
   "execution_count": 12,
   "metadata": {
    "collapsed": false
   },
   "outputs": [
    {
     "data": {
      "text/plain": [
       "DNNClassifier(dropout=0.1, optimizer=None, feature_columns=[_RealValuedColumn(column_name='', dimension=192, default_value=None, dtype=tf.float32)], hidden_units=[2048, 1024, 512])"
      ]
     },
     "execution_count": 12,
     "metadata": {},
     "output_type": "execute_result"
    }
   ],
   "source": [
    "# Build the DNN\n",
    "classifier = tf.contrib.learn.DNNClassifier(feature_columns = feature_columns,\n",
    "                                            hidden_units = nn_mid,\n",
    "                                            dropout = dropout,\n",
    "                                            #optimizer=opt_adagrad,\n",
    "                                            n_classes = NUM_LABELS,\n",
    "                                            model_dir = \"kleafc_model\"\n",
    "                                           )\n",
    "classifier.fit(x = X.astype(\"float32\"), y = Y, steps = steps_tr)"
   ]
  },
  {
   "cell_type": "markdown",
   "metadata": {},
   "source": [
    "# Training and Cross Validation Error"
   ]
  },
  {
   "cell_type": "code",
   "execution_count": 14,
   "metadata": {
    "collapsed": false
   },
   "outputs": [],
   "source": [
    "# Training Error\n",
    "log_loss_tr = classifier.evaluate(X.astype(\"float32\"), Y)['loss']\n",
    "acc_tr = classifier.evaluate(X.astype(\"float32\"), Y)['accuracy']"
   ]
  },
  {
   "cell_type": "code",
   "execution_count": 15,
   "metadata": {
    "collapsed": true
   },
   "outputs": [],
   "source": [
    "# Cross Validation Error\n",
    "log_loss_cv = classifier.evaluate(x_cv.astype(\"float32\"), y_cv)['loss']\n",
    "acc_cv = classifier.evaluate(x_cv.astype(\"float32\"), y_cv)['accuracy']"
   ]
  },
  {
   "cell_type": "code",
   "execution_count": 16,
   "metadata": {
    "collapsed": false
   },
   "outputs": [
    {
     "name": "stdout",
     "output_type": "stream",
     "text": [
      "Training Log-Loss: 0.000784\n",
      "Training Accuracy: 1.000000\n",
      "Cross Validation Log-Loss: 0.017190\n",
      "Cross Validation Accuracy: 1.000000\n"
     ]
    }
   ],
   "source": [
    "print('Training Log-Loss: {0:f}'.format(log_loss_tr))\n",
    "print('Training Accuracy: {0:f}'.format(acc_tr))\n",
    "\n",
    "print('Cross Validation Log-Loss: {0:f}'.format(log_loss_cv))\n",
    "print('Cross Validation Accuracy: {0:f}'.format(acc_cv))"
   ]
  },
  {
   "cell_type": "markdown",
   "metadata": {},
   "source": [
    "# Test Data Predictions"
   ]
  },
  {
   "cell_type": "code",
   "execution_count": 17,
   "metadata": {
    "collapsed": false
   },
   "outputs": [],
   "source": [
    "y_test_prob = classifier.predict_proba(x_test.astype(\"float32\"))"
   ]
  },
  {
   "cell_type": "markdown",
   "metadata": {},
   "source": [
    "# Submit"
   ]
  },
  {
   "cell_type": "code",
   "execution_count": 18,
   "metadata": {
    "collapsed": false
   },
   "outputs": [],
   "source": [
    "submission = pd.DataFrame(y_test_prob, index=test_ids, columns=le.classes_)\n",
    "submission.to_csv('submission_dnn.csv')"
   ]
  }
 ],
 "metadata": {
  "kernelspec": {
   "display_name": "Python 3",
   "language": "python",
   "name": "python3"
  },
  "language_info": {
   "codemirror_mode": {
    "name": "ipython",
    "version": 3
   },
   "file_extension": ".py",
   "mimetype": "text/x-python",
   "name": "python",
   "nbconvert_exporter": "python",
   "pygments_lexer": "ipython3",
   "version": "3.5.2"
  }
 },
 "nbformat": 4,
 "nbformat_minor": 1
}
