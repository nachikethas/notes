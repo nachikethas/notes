{
 "cells": [
  {
   "cell_type": "markdown",
   "metadata": {},
   "source": [
    "# Chapter 6 Applied Exercises"
   ]
  },
  {
   "cell_type": "markdown",
   "metadata": {},
   "source": [
    "## Exercise 9"
   ]
  },
  {
   "cell_type": "markdown",
   "metadata": {},
   "source": [
    "### (a)"
   ]
  },
  {
   "cell_type": "code",
   "execution_count": 1,
   "metadata": {
    "collapsed": false
   },
   "outputs": [
    {
     "data": {
      "text/plain": [
       " Private        Apps           Accept          Enroll       Top10perc    \n",
       " No :212   Min.   :   81   Min.   :   72   Min.   :  35   Min.   : 1.00  \n",
       " Yes:565   1st Qu.:  776   1st Qu.:  604   1st Qu.: 242   1st Qu.:15.00  \n",
       "           Median : 1558   Median : 1110   Median : 434   Median :23.00  \n",
       "           Mean   : 3002   Mean   : 2019   Mean   : 780   Mean   :27.56  \n",
       "           3rd Qu.: 3624   3rd Qu.: 2424   3rd Qu.: 902   3rd Qu.:35.00  \n",
       "           Max.   :48094   Max.   :26330   Max.   :6392   Max.   :96.00  \n",
       "   Top25perc      F.Undergrad     P.Undergrad         Outstate    \n",
       " Min.   :  9.0   Min.   :  139   Min.   :    1.0   Min.   : 2340  \n",
       " 1st Qu.: 41.0   1st Qu.:  992   1st Qu.:   95.0   1st Qu.: 7320  \n",
       " Median : 54.0   Median : 1707   Median :  353.0   Median : 9990  \n",
       " Mean   : 55.8   Mean   : 3700   Mean   :  855.3   Mean   :10441  \n",
       " 3rd Qu.: 69.0   3rd Qu.: 4005   3rd Qu.:  967.0   3rd Qu.:12925  \n",
       " Max.   :100.0   Max.   :31643   Max.   :21836.0   Max.   :21700  \n",
       "   Room.Board       Books           Personal         PhD        \n",
       " Min.   :1780   Min.   :  96.0   Min.   : 250   Min.   :  8.00  \n",
       " 1st Qu.:3597   1st Qu.: 470.0   1st Qu.: 850   1st Qu.: 62.00  \n",
       " Median :4200   Median : 500.0   Median :1200   Median : 75.00  \n",
       " Mean   :4358   Mean   : 549.4   Mean   :1341   Mean   : 72.66  \n",
       " 3rd Qu.:5050   3rd Qu.: 600.0   3rd Qu.:1700   3rd Qu.: 85.00  \n",
       " Max.   :8124   Max.   :2340.0   Max.   :6800   Max.   :103.00  \n",
       "    Terminal       S.F.Ratio      perc.alumni        Expend     \n",
       " Min.   : 24.0   Min.   : 2.50   Min.   : 0.00   Min.   : 3186  \n",
       " 1st Qu.: 71.0   1st Qu.:11.50   1st Qu.:13.00   1st Qu.: 6751  \n",
       " Median : 82.0   Median :13.60   Median :21.00   Median : 8377  \n",
       " Mean   : 79.7   Mean   :14.09   Mean   :22.74   Mean   : 9660  \n",
       " 3rd Qu.: 92.0   3rd Qu.:16.50   3rd Qu.:31.00   3rd Qu.:10830  \n",
       " Max.   :100.0   Max.   :39.80   Max.   :64.00   Max.   :56233  \n",
       "   Grad.Rate     \n",
       " Min.   : 10.00  \n",
       " 1st Qu.: 53.00  \n",
       " Median : 65.00  \n",
       " Mean   : 65.46  \n",
       " 3rd Qu.: 78.00  \n",
       " Max.   :118.00  "
      ]
     },
     "metadata": {},
     "output_type": "display_data"
    }
   ],
   "source": [
    "library(ISLR)\n",
    "summary(College)\n",
    "set.seed(1)"
   ]
  },
  {
   "cell_type": "code",
   "execution_count": 2,
   "metadata": {
    "collapsed": false
   },
   "outputs": [
    {
     "name": "stdout",
     "output_type": "stream",
     "text": [
      "'data.frame':\t777 obs. of  18 variables:\n",
      " $ Private    : Factor w/ 2 levels \"No\",\"Yes\": 2 2 2 2 2 2 2 2 2 2 ...\n",
      " $ Apps       : num  1660 2186 1428 417 193 ...\n",
      " $ Accept     : num  1232 1924 1097 349 146 ...\n",
      " $ Enroll     : num  721 512 336 137 55 158 103 489 227 172 ...\n",
      " $ Top10perc  : num  23 16 22 60 16 38 17 37 30 21 ...\n",
      " $ Top25perc  : num  52 29 50 89 44 62 45 68 63 44 ...\n",
      " $ F.Undergrad: num  2885 2683 1036 510 249 ...\n",
      " $ P.Undergrad: num  537 1227 99 63 869 ...\n",
      " $ Outstate   : num  7440 12280 11250 12960 7560 ...\n",
      " $ Room.Board : num  3300 6450 3750 5450 4120 ...\n",
      " $ Books      : num  450 750 400 450 800 500 500 450 300 660 ...\n",
      " $ Personal   : num  2200 1500 1165 875 1500 ...\n",
      " $ PhD        : num  70 29 53 92 76 67 90 89 79 40 ...\n",
      " $ Terminal   : num  78 30 66 97 72 73 93 100 84 41 ...\n",
      " $ S.F.Ratio  : num  18.1 12.2 12.9 7.7 11.9 9.4 11.5 13.7 11.3 11.5 ...\n",
      " $ perc.alumni: num  12 16 30 37 2 11 26 37 23 15 ...\n",
      " $ Expend     : num  7041 10527 8735 19016 10922 ...\n",
      " $ Grad.Rate  : num  60 56 54 59 15 55 63 73 80 52 ...\n"
     ]
    }
   ],
   "source": [
    "str(College)"
   ]
  },
  {
   "cell_type": "code",
   "execution_count": 3,
   "metadata": {
    "collapsed": true
   },
   "outputs": [],
   "source": [
    "frac = 0.4\n",
    "test = sample(nrow(College), round(nrow(College)*frac))\n",
    "test.X  = College[test, ]\n",
    "train.X = College[-test, ]\n",
    "test.Y  = College$Apps[test]\n",
    "train.Y = College$Apps[-test]"
   ]
  },
  {
   "cell_type": "markdown",
   "metadata": {},
   "source": [
    "### (b)"
   ]
  },
  {
   "cell_type": "code",
   "execution_count": 4,
   "metadata": {
    "collapsed": false
   },
   "outputs": [
    {
     "data": {
      "text/plain": [
       "\n",
       "Call:\n",
       "lm(formula = Apps ~ ., data = train.X)\n",
       "\n",
       "Residuals:\n",
       "    Min      1Q  Median      3Q     Max \n",
       "-3019.9  -385.6    -7.8   287.7  7333.0 \n",
       "\n",
       "Coefficients:\n",
       "              Estimate Std. Error t value Pr(>|t|)    \n",
       "(Intercept) -1.045e+03  4.740e+02  -2.205 0.027958 *  \n",
       "PrivateYes  -4.399e+02  1.600e+02  -2.750 0.006196 ** \n",
       "Accept       1.432e+00  6.246e-02  22.920  < 2e-16 ***\n",
       "Enroll      -9.743e-01  2.349e-01  -4.148 4.02e-05 ***\n",
       "Top10perc    3.527e+01  6.644e+00   5.308 1.75e-07 ***\n",
       "Top25perc   -8.631e+00  5.334e+00  -1.618 0.106333    \n",
       "F.Undergrad  1.361e-01  3.723e-02   3.656 0.000286 ***\n",
       "P.Undergrad  4.738e-02  3.283e-02   1.443 0.149581    \n",
       "Outstate    -6.228e-02  2.229e-02  -2.795 0.005417 ** \n",
       "Room.Board   8.511e-02  5.602e-02   1.519 0.129347    \n",
       "Books        1.174e-01  2.695e-01   0.436 0.663372    \n",
       "Personal     8.716e-03  7.509e-02   0.116 0.907639    \n",
       "PhD         -8.456e+00  5.319e+00  -1.590 0.112614    \n",
       "Terminal    -2.256e+00  5.606e+00  -0.402 0.687618    \n",
       "S.F.Ratio    3.396e+01  1.432e+01   2.371 0.018146 *  \n",
       "perc.alumni  2.056e-01  4.702e+00   0.044 0.965139    \n",
       "Expend       1.029e-01  1.368e-02   7.517 3.08e-13 ***\n",
       "Grad.Rate    1.048e+01  3.379e+00   3.100 0.002055 ** \n",
       "---\n",
       "Signif. codes:  0 '***' 0.001 '**' 0.01 '*' 0.05 '.' 0.1 ' ' 1\n",
       "\n",
       "Residual standard error: 933.6 on 448 degrees of freedom\n",
       "Multiple R-squared:  0.9238,\tAdjusted R-squared:  0.9209 \n",
       "F-statistic: 319.4 on 17 and 448 DF,  p-value: < 2.2e-16\n"
      ]
     },
     "metadata": {},
     "output_type": "display_data"
    }
   ],
   "source": [
    "lm.fit = lm(Apps ~ ., data=train.X)\n",
    "summary(lm.fit)"
   ]
  },
  {
   "cell_type": "code",
   "execution_count": 5,
   "metadata": {
    "collapsed": false
   },
   "outputs": [
    {
     "data": {
      "text/html": [
       "1523845.87436258"
      ],
      "text/latex": [
       "1523845.87436258"
      ],
      "text/markdown": [
       "1523845.87436258"
      ],
      "text/plain": [
       "[1] 1523846"
      ]
     },
     "metadata": {},
     "output_type": "display_data"
    }
   ],
   "source": [
    "mean((College$Apps-predict(lm.fit, College))[test]^2)"
   ]
  },
  {
   "cell_type": "markdown",
   "metadata": {},
   "source": [
    "### (c)"
   ]
  },
  {
   "cell_type": "code",
   "execution_count": 6,
   "metadata": {
    "collapsed": false
   },
   "outputs": [
    {
     "name": "stderr",
     "output_type": "stream",
     "text": [
      "Loading required package: Matrix\n",
      "Loading required package: foreach\n",
      "Loaded glmnet 2.0-5\n",
      "\n"
     ]
    }
   ],
   "source": [
    "library(glmnet)"
   ]
  },
  {
   "cell_type": "code",
   "execution_count": 7,
   "metadata": {
    "collapsed": false
   },
   "outputs": [
    {
     "data": {
      "text/html": [
       "340.006015479999"
      ],
      "text/latex": [
       "340.006015479999"
      ],
      "text/markdown": [
       "340.006015479999"
      ],
      "text/plain": [
       "[1] 340.006"
      ]
     },
     "metadata": {},
     "output_type": "display_data"
    }
   ],
   "source": [
    "grid = 10^seq(10, -2, length=100)\n",
    "x = model.matrix(Apps~., College)[,-1]\n",
    "y = College$Apps\n",
    "ridge.mod = glmnet(x[-test,], y[-test], alpha=0, lambda=grid, thresh=1e-12)\n",
    "cv.out = cv.glmnet(x[-test,], y[-test], alpha=0)\n",
    "bestlam = cv.out$lambda.min\n",
    "bestlam"
   ]
  },
  {
   "cell_type": "code",
   "execution_count": 8,
   "metadata": {
    "collapsed": false
   },
   "outputs": [
    {
     "data": {
      "text/html": [
       "2529109.75308477"
      ],
      "text/latex": [
       "2529109.75308477"
      ],
      "text/markdown": [
       "2529109.75308477"
      ],
      "text/plain": [
       "[1] 2529110"
      ]
     },
     "metadata": {},
     "output_type": "display_data"
    }
   ],
   "source": [
    "ridge.pred=predict(ridge.mod, s=bestlam, newx=x[test, ])\n",
    "mean((ridge.pred - y[test])^2)"
   ]
  },
  {
   "cell_type": "markdown",
   "metadata": {},
   "source": [
    "### (d)"
   ]
  },
  {
   "cell_type": "code",
   "execution_count": 9,
   "metadata": {
    "collapsed": false
   },
   "outputs": [
    {
     "data": {
      "text/html": [
       "1530219.22255644"
      ],
      "text/latex": [
       "1530219.22255644"
      ],
      "text/markdown": [
       "1530219.22255644"
      ],
      "text/plain": [
       "[1] 1530219"
      ]
     },
     "metadata": {},
     "output_type": "display_data"
    }
   ],
   "source": [
    "lasso.mod = glmnet(x[-test,], y[-test], alpha=1, lambda=grid)\n",
    "cv.out = cv.glmnet(x[-test,], y[-test], alpha=1)\n",
    "bestlam = cv.out$lambda.min\n",
    "lasso.pred=predict(lasso.mod, s=bestlam, newx=x[test, ])\n",
    "mean((lasso.pred - y[test])^2)"
   ]
  },
  {
   "cell_type": "code",
   "execution_count": 10,
   "metadata": {
    "collapsed": false
   },
   "outputs": [
    {
     "data": {
      "text/html": [
       "<dl class=dl-horizontal>\n",
       "\t<dt>(Intercept)</dt>\n",
       "\t\t<dd>-467.68975772574</dd>\n",
       "\t<dt>PrivateYes</dt>\n",
       "\t\t<dd>-491.655607643599</dd>\n",
       "\t<dt>Accept</dt>\n",
       "\t\t<dd>1.57208771863246</dd>\n",
       "\t<dt>Enroll</dt>\n",
       "\t\t<dd>-0.775972086106719</dd>\n",
       "\t<dt>Top10perc</dt>\n",
       "\t\t<dd>48.3750708659008</dd>\n",
       "\t<dt>Top25perc</dt>\n",
       "\t\t<dd>-13.0373858940984</dd>\n",
       "\t<dt>F.Undergrad</dt>\n",
       "\t\t<dd>0.0439090953319306</dd>\n",
       "\t<dt>P.Undergrad</dt>\n",
       "\t\t<dd>0.0440980791704754</dd>\n",
       "\t<dt>Outstate</dt>\n",
       "\t\t<dd>-0.0835841498075796</dd>\n",
       "\t<dt>Room.Board</dt>\n",
       "\t\t<dd>0.149798227185166</dd>\n",
       "\t<dt>Books</dt>\n",
       "\t\t<dd>0.0158805563282306</dd>\n",
       "\t<dt>Personal</dt>\n",
       "\t\t<dd>0.0292989628385398</dd>\n",
       "\t<dt>PhD</dt>\n",
       "\t\t<dd>-8.44513419667077</dd>\n",
       "\t<dt>Terminal</dt>\n",
       "\t\t<dd>-3.27260880702894</dd>\n",
       "\t<dt>S.F.Ratio</dt>\n",
       "\t\t<dd>14.6803715573134</dd>\n",
       "\t<dt>perc.alumni</dt>\n",
       "\t\t<dd>-0.0172257828629616</dd>\n",
       "\t<dt>Expend</dt>\n",
       "\t\t<dd>0.0772446237473655</dd>\n",
       "\t<dt>Grad.Rate</dt>\n",
       "\t\t<dd>8.34348263006472</dd>\n",
       "</dl>\n"
      ],
      "text/latex": [
       "\\begin{description*}\n",
       "\\item[(Intercept)] -467.68975772574\n",
       "\\item[PrivateYes] -491.655607643599\n",
       "\\item[Accept] 1.57208771863246\n",
       "\\item[Enroll] -0.775972086106719\n",
       "\\item[Top10perc] 48.3750708659008\n",
       "\\item[Top25perc] -13.0373858940984\n",
       "\\item[F.Undergrad] 0.0439090953319306\n",
       "\\item[P.Undergrad] 0.0440980791704754\n",
       "\\item[Outstate] -0.0835841498075796\n",
       "\\item[Room.Board] 0.149798227185166\n",
       "\\item[Books] 0.0158805563282306\n",
       "\\item[Personal] 0.0292989628385398\n",
       "\\item[PhD] -8.44513419667077\n",
       "\\item[Terminal] -3.27260880702894\n",
       "\\item[S.F.Ratio] 14.6803715573134\n",
       "\\item[perc.alumni] -0.0172257828629616\n",
       "\\item[Expend] 0.0772446237473655\n",
       "\\item[Grad.Rate] 8.34348263006472\n",
       "\\end{description*}\n"
      ],
      "text/markdown": [
       "(Intercept)\n",
       ":   -467.68975772574PrivateYes\n",
       ":   -491.655607643599Accept\n",
       ":   1.57208771863246Enroll\n",
       ":   -0.775972086106719Top10perc\n",
       ":   48.3750708659008Top25perc\n",
       ":   -13.0373858940984F.Undergrad\n",
       ":   0.0439090953319306P.Undergrad\n",
       ":   0.0440980791704754Outstate\n",
       ":   -0.0835841498075796Room.Board\n",
       ":   0.149798227185166Books\n",
       ":   0.0158805563282306Personal\n",
       ":   0.0292989628385398PhD\n",
       ":   -8.44513419667077Terminal\n",
       ":   -3.27260880702894S.F.Ratio\n",
       ":   14.6803715573134perc.alumni\n",
       ":   -0.0172257828629616Expend\n",
       ":   0.0772446237473655Grad.Rate\n",
       ":   8.34348263006472\n",
       "\n"
      ],
      "text/plain": [
       "  (Intercept)    PrivateYes        Accept        Enroll     Top10perc \n",
       "-467.68975773 -491.65560764    1.57208772   -0.77597209   48.37507087 \n",
       "    Top25perc   F.Undergrad   P.Undergrad      Outstate    Room.Board \n",
       " -13.03738589    0.04390910    0.04409808   -0.08358415    0.14979823 \n",
       "        Books      Personal           PhD      Terminal     S.F.Ratio \n",
       "   0.01588056    0.02929896   -8.44513420   -3.27260881   14.68037156 \n",
       "  perc.alumni        Expend     Grad.Rate \n",
       "  -0.01722578    0.07724462    8.34348263 "
      ]
     },
     "metadata": {},
     "output_type": "display_data"
    }
   ],
   "source": [
    "out = glmnet(x, y, alpha=1, lambda=grid)\n",
    "lasso.coeff=predict(out, type=\"coefficients\", s=bestlam)[1:18,]\n",
    "lasso.coeff"
   ]
  },
  {
   "cell_type": "markdown",
   "metadata": {},
   "source": [
    "### (e)"
   ]
  },
  {
   "cell_type": "code",
   "execution_count": 11,
   "metadata": {
    "collapsed": false
   },
   "outputs": [
    {
     "name": "stderr",
     "output_type": "stream",
     "text": [
      "\n",
      "Attaching package: 'pls'\n",
      "\n",
      "The following object is masked from 'package:stats':\n",
      "\n",
      "    loadings\n",
      "\n"
     ]
    }
   ],
   "source": [
    "library(pls)"
   ]
  },
  {
   "cell_type": "code",
   "execution_count": 12,
   "metadata": {
    "collapsed": false
   },
   "outputs": [
    {
     "name": "stdout",
     "output_type": "stream",
     "text": [
      "Data: \tX dimension: 466 17 \n",
      "\tY dimension: 466 1\n",
      "Fit method: svdpc\n",
      "Number of components considered: 17\n",
      "\n",
      "VALIDATION: RMSEP\n",
      "Cross-validated using 10 random segments.\n",
      "       (Intercept)  1 comps  2 comps  3 comps  4 comps  5 comps  6 comps\n",
      "CV            3323     3322     1617     1623     1464     1338     1270\n",
      "adjCV         3323     3323     1615     1624     1391     1265     1267\n",
      "       7 comps  8 comps  9 comps  10 comps  11 comps  12 comps  13 comps\n",
      "CV        1245     1205     1195      1185      1183      1179      1186\n",
      "adjCV     1245     1197     1193      1183      1181      1176      1183\n",
      "       14 comps  15 comps  16 comps  17 comps\n",
      "CV         1198      1162      1039     984.2\n",
      "adjCV      1194      1158      1035     980.5\n",
      "\n",
      "TRAINING: % variance explained\n",
      "      1 comps  2 comps  3 comps  4 comps  5 comps  6 comps  7 comps  8 comps\n",
      "X     32.6616    57.80    64.80    70.21    75.49    80.67    84.23    87.48\n",
      "Apps   0.4505    76.59    76.76    83.84    86.01    86.05    86.75    87.75\n",
      "      9 comps  10 comps  11 comps  12 comps  13 comps  14 comps  15 comps\n",
      "X       90.52     92.90     95.00     96.94     98.05     98.91     99.42\n",
      "Apps    87.81     88.04     88.24     88.48     88.49     88.49     89.35\n",
      "      16 comps  17 comps\n",
      "X        99.84    100.00\n",
      "Apps     91.46     92.38\n"
     ]
    }
   ],
   "source": [
    "pcr.fit=pcr(Apps~., data=College[-test,], scale=TRUE, validation=\"CV\")\n",
    "summary(pcr.fit)"
   ]
  },
  {
   "cell_type": "code",
   "execution_count": 13,
   "metadata": {
    "collapsed": false
   },
   "outputs": [
    {
     "data": {
      "image/png": "[encoded data removed]",
      "text/plain": [
       "Plot with title \"Apps\""
      ]
     },
     "metadata": {},
     "output_type": "display_data"
    }
   ],
   "source": [
    "validationplot(pcr.fit, val.type=\"MSEP\")"
   ]
  },
  {
   "cell_type": "markdown",
   "metadata": {},
   "source": [
    "It seems we need all 17 components"
   ]
  },
  {
   "cell_type": "code",
   "execution_count": 14,
   "metadata": {
    "collapsed": false
   },
   "outputs": [
    {
     "data": {
      "text/html": [
       "1523845.87436258"
      ],
      "text/latex": [
       "1523845.87436258"
      ],
      "text/markdown": [
       "1523845.87436258"
      ],
      "text/plain": [
       "[1] 1523846"
      ]
     },
     "metadata": {},
     "output_type": "display_data"
    }
   ],
   "source": [
    "pcr.pred=predict(pcr.fit, x[test, ], ncomp=17)\n",
    "mean((pcr.pred - y[test])^2)"
   ]
  },
  {
   "cell_type": "markdown",
   "metadata": {},
   "source": [
    "### (f)"
   ]
  },
  {
   "cell_type": "code",
   "execution_count": 15,
   "metadata": {
    "collapsed": false
   },
   "outputs": [
    {
     "name": "stdout",
     "output_type": "stream",
     "text": [
      "Data: \tX dimension: 466 17 \n",
      "\tY dimension: 466 1\n",
      "Fit method: kernelpls\n",
      "Number of components considered: 17\n",
      "\n",
      "VALIDATION: RMSEP\n",
      "Cross-validated using 10 random segments.\n",
      "       (Intercept)  1 comps  2 comps  3 comps  4 comps  5 comps  6 comps\n",
      "CV            3323     1477     1196     1149     1122     1083     1039\n",
      "adjCV         3323     1475     1190     1146     1116     1078     1032\n",
      "       7 comps  8 comps  9 comps  10 comps  11 comps  12 comps  13 comps\n",
      "CV        1015     1009    994.0     992.7     993.0     994.9     995.0\n",
      "adjCV     1010     1004    989.8     988.3     988.8     990.5     990.7\n",
      "       14 comps  15 comps  16 comps  17 comps\n",
      "CV        994.7     994.4     994.4     994.4\n",
      "adjCV     990.4     990.1     990.1     990.1\n",
      "\n",
      "TRAINING: % variance explained\n",
      "      1 comps  2 comps  3 comps  4 comps  5 comps  6 comps  7 comps  8 comps\n",
      "X       25.09    35.48    62.86    66.13    70.14    73.82    76.30    80.29\n",
      "Apps    80.88    87.73    88.93    90.22    91.24    91.94    92.13    92.19\n",
      "      9 comps  10 comps  11 comps  12 comps  13 comps  14 comps  15 comps\n",
      "X       82.37     84.76     87.02     88.92     92.84     94.82     96.96\n",
      "Apps    92.30     92.36     92.37     92.38     92.38     92.38     92.38\n",
      "      16 comps  17 comps\n",
      "X        99.12    100.00\n",
      "Apps     92.38     92.38\n"
     ]
    }
   ],
   "source": [
    "pls.fit=plsr(Apps~., data=College[-test,], scale=TRUE, validation=\"CV\")\n",
    "summary(pls.fit)"
   ]
  },
  {
   "cell_type": "markdown",
   "metadata": {},
   "source": [
    "$M = 13$ gives the lowest cv error"
   ]
  },
  {
   "cell_type": "code",
   "execution_count": 16,
   "metadata": {
    "collapsed": false
   },
   "outputs": [
    {
     "data": {
      "image/png": "[encoded data removed]",
      "text/plain": [
       "Plot with title \"Apps\""
      ]
     },
     "metadata": {},
     "output_type": "display_data"
    }
   ],
   "source": [
    "validationplot(pls.fit, val.type=\"MSEP\")"
   ]
  },
  {
   "cell_type": "code",
   "execution_count": 17,
   "metadata": {
    "collapsed": false
   },
   "outputs": [
    {
     "data": {
      "text/html": [
       "1523845.87436259"
      ],
      "text/latex": [
       "1523845.87436259"
      ],
      "text/markdown": [
       "1523845.87436259"
      ],
      "text/plain": [
       "[1] 1523846"
      ]
     },
     "metadata": {},
     "output_type": "display_data"
    }
   ],
   "source": [
    "pls.pred=predict(pls.fit, x[test, ], ncomp=17)\n",
    "mean((pls.pred - y[test])^2)"
   ]
  },
  {
   "cell_type": "markdown",
   "metadata": {},
   "source": [
    "## Exercise 11"
   ]
  },
  {
   "cell_type": "markdown",
   "metadata": {},
   "source": [
    "### (a)"
   ]
  },
  {
   "cell_type": "code",
   "execution_count": 18,
   "metadata": {
    "collapsed": false
   },
   "outputs": [
    {
     "data": {
      "text/plain": [
       "      crim                zn             indus            chas        \n",
       " Min.   : 0.00632   Min.   :  0.00   Min.   : 0.46   Min.   :0.00000  \n",
       " 1st Qu.: 0.08204   1st Qu.:  0.00   1st Qu.: 5.19   1st Qu.:0.00000  \n",
       " Median : 0.25651   Median :  0.00   Median : 9.69   Median :0.00000  \n",
       " Mean   : 3.61352   Mean   : 11.36   Mean   :11.14   Mean   :0.06917  \n",
       " 3rd Qu.: 3.67708   3rd Qu.: 12.50   3rd Qu.:18.10   3rd Qu.:0.00000  \n",
       " Max.   :88.97620   Max.   :100.00   Max.   :27.74   Max.   :1.00000  \n",
       "      nox               rm             age              dis        \n",
       " Min.   :0.3850   Min.   :3.561   Min.   :  2.90   Min.   : 1.130  \n",
       " 1st Qu.:0.4490   1st Qu.:5.886   1st Qu.: 45.02   1st Qu.: 2.100  \n",
       " Median :0.5380   Median :6.208   Median : 77.50   Median : 3.207  \n",
       " Mean   :0.5547   Mean   :6.285   Mean   : 68.57   Mean   : 3.795  \n",
       " 3rd Qu.:0.6240   3rd Qu.:6.623   3rd Qu.: 94.08   3rd Qu.: 5.188  \n",
       " Max.   :0.8710   Max.   :8.780   Max.   :100.00   Max.   :12.127  \n",
       "      rad              tax           ptratio          black       \n",
       " Min.   : 1.000   Min.   :187.0   Min.   :12.60   Min.   :  0.32  \n",
       " 1st Qu.: 4.000   1st Qu.:279.0   1st Qu.:17.40   1st Qu.:375.38  \n",
       " Median : 5.000   Median :330.0   Median :19.05   Median :391.44  \n",
       " Mean   : 9.549   Mean   :408.2   Mean   :18.46   Mean   :356.67  \n",
       " 3rd Qu.:24.000   3rd Qu.:666.0   3rd Qu.:20.20   3rd Qu.:396.23  \n",
       " Max.   :24.000   Max.   :711.0   Max.   :22.00   Max.   :396.90  \n",
       "     lstat            medv      \n",
       " Min.   : 1.73   Min.   : 5.00  \n",
       " 1st Qu.: 6.95   1st Qu.:17.02  \n",
       " Median :11.36   Median :21.20  \n",
       " Mean   :12.65   Mean   :22.53  \n",
       " 3rd Qu.:16.95   3rd Qu.:25.00  \n",
       " Max.   :37.97   Max.   :50.00  "
      ]
     },
     "metadata": {},
     "output_type": "display_data"
    }
   ],
   "source": [
    "library(MASS)\n",
    "summary(Boston)"
   ]
  },
  {
   "cell_type": "code",
   "execution_count": 19,
   "metadata": {
    "collapsed": false
   },
   "outputs": [
    {
     "name": "stdout",
     "output_type": "stream",
     "text": [
      "'data.frame':\t506 obs. of  14 variables:\n",
      " $ crim   : num  0.00632 0.02731 0.02729 0.03237 0.06905 ...\n",
      " $ zn     : num  18 0 0 0 0 0 12.5 12.5 12.5 12.5 ...\n",
      " $ indus  : num  2.31 7.07 7.07 2.18 2.18 2.18 7.87 7.87 7.87 7.87 ...\n",
      " $ chas   : int  0 0 0 0 0 0 0 0 0 0 ...\n",
      " $ nox    : num  0.538 0.469 0.469 0.458 0.458 0.458 0.524 0.524 0.524 0.524 ...\n",
      " $ rm     : num  6.58 6.42 7.18 7 7.15 ...\n",
      " $ age    : num  65.2 78.9 61.1 45.8 54.2 58.7 66.6 96.1 100 85.9 ...\n",
      " $ dis    : num  4.09 4.97 4.97 6.06 6.06 ...\n",
      " $ rad    : int  1 2 2 3 3 3 5 5 5 5 ...\n",
      " $ tax    : num  296 242 242 222 222 222 311 311 311 311 ...\n",
      " $ ptratio: num  15.3 17.8 17.8 18.7 18.7 18.7 15.2 15.2 15.2 15.2 ...\n",
      " $ black  : num  397 397 393 395 397 ...\n",
      " $ lstat  : num  4.98 9.14 4.03 2.94 5.33 ...\n",
      " $ medv   : num  24 21.6 34.7 33.4 36.2 28.7 22.9 27.1 16.5 18.9 ...\n"
     ]
    }
   ],
   "source": [
    "str(Boston)"
   ]
  },
  {
   "cell_type": "markdown",
   "metadata": {},
   "source": [
    "#### Ridge Regression"
   ]
  },
  {
   "cell_type": "code",
   "execution_count": 20,
   "metadata": {
    "collapsed": true
   },
   "outputs": [],
   "source": [
    "frac = 0.4\n",
    "test = sample(nrow(Boston), round(nrow(Boston)*frac))\n",
    "test.X  = Boston[test, ]\n",
    "train.X = Boston[-test, ]\n",
    "test.Y  = Boston$crim[test]\n",
    "train.Y = Boston$crim[-test]"
   ]
  },
  {
   "cell_type": "code",
   "execution_count": 21,
   "metadata": {
    "collapsed": true
   },
   "outputs": [],
   "source": [
    "grid = 10^seq(10, -2, length=100)\n",
    "x = model.matrix(crim~., Boston)[,-1]\n",
    "y = Boston$crim"
   ]
  },
  {
   "cell_type": "code",
   "execution_count": 22,
   "metadata": {
    "collapsed": false
   },
   "outputs": [
    {
     "data": {
      "text/html": [
       "48.0922069876186"
      ],
      "text/latex": [
       "48.0922069876186"
      ],
      "text/markdown": [
       "48.0922069876186"
      ],
      "text/plain": [
       "[1] 48.09221"
      ]
     },
     "metadata": {},
     "output_type": "display_data"
    }
   ],
   "source": [
    "ridge.mod = glmnet(x[-test,], y[-test], alpha=0, lambda=grid)\n",
    "cv.out = cv.glmnet(x[-test,], y[-test], alpha=0)\n",
    "bestlam = cv.out$lambda.min\n",
    "ridge.pred=predict(ridge.mod, s=bestlam, newx=x[test, ])\n",
    "mean((ridge.pred - y[test])^2)"
   ]
  },
  {
   "cell_type": "markdown",
   "metadata": {},
   "source": [
    "### lasso"
   ]
  },
  {
   "cell_type": "code",
   "execution_count": 23,
   "metadata": {
    "collapsed": false
   },
   "outputs": [
    {
     "data": {
      "text/html": [
       "47.7558891037816"
      ],
      "text/latex": [
       "47.7558891037816"
      ],
      "text/markdown": [
       "47.7558891037816"
      ],
      "text/plain": [
       "[1] 47.75589"
      ]
     },
     "metadata": {},
     "output_type": "display_data"
    }
   ],
   "source": [
    "lasso.mod = glmnet(x[-test,], y[-test], alpha=1, lambda=grid)\n",
    "cv.out = cv.glmnet(x[-test,], y[-test], alpha=1)\n",
    "bestlam = cv.out$lambda.min\n",
    "lasso.pred=predict(lasso.mod, s=bestlam, newx=x[test, ])\n",
    "mean((lasso.pred - y[test])^2)"
   ]
  },
  {
   "cell_type": "markdown",
   "metadata": {},
   "source": [
    "#### PCR"
   ]
  },
  {
   "cell_type": "code",
   "execution_count": 24,
   "metadata": {
    "collapsed": false
   },
   "outputs": [
    {
     "name": "stdout",
     "output_type": "stream",
     "text": [
      "Data: \tX dimension: 304 13 \n",
      "\tY dimension: 304 1\n",
      "Fit method: svdpc\n",
      "Number of components considered: 13\n",
      "\n",
      "VALIDATION: RMSEP\n",
      "Cross-validated using 10 random segments.\n",
      "       (Intercept)  1 comps  2 comps  3 comps  4 comps  5 comps  6 comps\n",
      "CV           8.266    6.877    6.860    6.528    6.524    6.551    6.592\n",
      "adjCV        8.266    6.873    6.857    6.520    6.516    6.542    6.580\n",
      "       7 comps  8 comps  9 comps  10 comps  11 comps  12 comps  13 comps\n",
      "CV       6.597    6.409    6.438     6.438     6.431     6.364     6.303\n",
      "adjCV    6.584    6.393    6.422     6.423     6.417     6.349     6.286\n",
      "\n",
      "TRAINING: % variance explained\n",
      "      1 comps  2 comps  3 comps  4 comps  5 comps  6 comps  7 comps  8 comps\n",
      "X        48.0    61.27    70.48    77.05    83.27    88.22    91.36    93.62\n",
      "crim     31.6    32.12    39.96    40.09    40.16    40.40    40.65    44.03\n",
      "      9 comps  10 comps  11 comps  12 comps  13 comps\n",
      "X       95.60     97.32     98.53     99.55    100.00\n",
      "crim    44.18     44.27     44.43     45.79     47.07\n"
     ]
    }
   ],
   "source": [
    "pcr.fit=pcr(crim~., data=Boston[-test,], scale=TRUE, validation=\"CV\")\n",
    "summary(pcr.fit)"
   ]
  },
  {
   "cell_type": "code",
   "execution_count": 25,
   "metadata": {
    "collapsed": false
   },
   "outputs": [
    {
     "data": {
      "image/png": "[encoded data removed]",
      "text/plain": [
       "Plot with title \"crim\""
      ]
     },
     "metadata": {},
     "output_type": "display_data"
    }
   ],
   "source": [
    "validationplot(pcr.fit, val.type=\"MSEP\")"
   ]
  },
  {
   "cell_type": "code",
   "execution_count": 26,
   "metadata": {
    "collapsed": false
   },
   "outputs": [
    {
     "data": {
      "text/html": [
       "51.2135140199795"
      ],
      "text/latex": [
       "51.2135140199795"
      ],
      "text/markdown": [
       "51.2135140199795"
      ],
      "text/plain": [
       "[1] 51.21351"
      ]
     },
     "metadata": {},
     "output_type": "display_data"
    }
   ],
   "source": [
    "pcr.pred=predict(pcr.fit, x[test, ], ncomp=4)\n",
    "mean((pcr.pred - y[test])^2)"
   ]
  },
  {
   "cell_type": "markdown",
   "metadata": {},
   "source": [
    "### (b)"
   ]
  },
  {
   "cell_type": "markdown",
   "metadata": {},
   "source": [
    "Choosing the lasso, since it seems to give us the least test error."
   ]
  },
  {
   "cell_type": "code",
   "execution_count": 27,
   "metadata": {
    "collapsed": false
   },
   "outputs": [
    {
     "data": {
      "text/html": [
       "<dl class=dl-horizontal>\n",
       "\t<dt>(Intercept)</dt>\n",
       "\t\t<dd>11.2638220021182</dd>\n",
       "\t<dt>zn</dt>\n",
       "\t\t<dd>0.0342050738019856</dd>\n",
       "\t<dt>indus</dt>\n",
       "\t\t<dd>-0.0619741292202966</dd>\n",
       "\t<dt>chas</dt>\n",
       "\t\t<dd>-0.552738687491768</dd>\n",
       "\t<dt>nox</dt>\n",
       "\t\t<dd>-5.61057730309777</dd>\n",
       "\t<dt>rm</dt>\n",
       "\t\t<dd>0.144796155333202</dd>\n",
       "\t<dt>age</dt>\n",
       "\t\t<dd>0</dd>\n",
       "\t<dt>dis</dt>\n",
       "\t\t<dd>-0.708689617917159</dd>\n",
       "\t<dt>rad</dt>\n",
       "\t\t<dd>0.505971143159666</dd>\n",
       "\t<dt>tax</dt>\n",
       "\t\t<dd>0</dd>\n",
       "\t<dt>ptratio</dt>\n",
       "\t\t<dd>-0.154057272140428</dd>\n",
       "\t<dt>black</dt>\n",
       "\t\t<dd>-0.00755171488883202</dd>\n",
       "\t<dt>lstat</dt>\n",
       "\t\t<dd>0.121792283331262</dd>\n",
       "\t<dt>medv</dt>\n",
       "\t\t<dd>-0.144453891861675</dd>\n",
       "</dl>\n"
      ],
      "text/latex": [
       "\\begin{description*}\n",
       "\\item[(Intercept)] 11.2638220021182\n",
       "\\item[zn] 0.0342050738019856\n",
       "\\item[indus] -0.0619741292202966\n",
       "\\item[chas] -0.552738687491768\n",
       "\\item[nox] -5.61057730309777\n",
       "\\item[rm] 0.144796155333202\n",
       "\\item[age] 0\n",
       "\\item[dis] -0.708689617917159\n",
       "\\item[rad] 0.505971143159666\n",
       "\\item[tax] 0\n",
       "\\item[ptratio] -0.154057272140428\n",
       "\\item[black] -0.00755171488883202\n",
       "\\item[lstat] 0.121792283331262\n",
       "\\item[medv] -0.144453891861675\n",
       "\\end{description*}\n"
      ],
      "text/markdown": [
       "(Intercept)\n",
       ":   11.2638220021182zn\n",
       ":   0.0342050738019856indus\n",
       ":   -0.0619741292202966chas\n",
       ":   -0.552738687491768nox\n",
       ":   -5.61057730309777rm\n",
       ":   0.144796155333202age\n",
       ":   0dis\n",
       ":   -0.708689617917159rad\n",
       ":   0.505971143159666tax\n",
       ":   0ptratio\n",
       ":   -0.154057272140428black\n",
       ":   -0.00755171488883202lstat\n",
       ":   0.121792283331262medv\n",
       ":   -0.144453891861675\n",
       "\n"
      ],
      "text/plain": [
       " (Intercept)           zn        indus         chas          nox           rm \n",
       "11.263822002  0.034205074 -0.061974129 -0.552738687 -5.610577303  0.144796155 \n",
       "         age          dis          rad          tax      ptratio        black \n",
       " 0.000000000 -0.708689618  0.505971143  0.000000000 -0.154057272 -0.007551715 \n",
       "       lstat         medv \n",
       " 0.121792283 -0.144453892 "
      ]
     },
     "metadata": {},
     "output_type": "display_data"
    }
   ],
   "source": [
    "out = glmnet(x, y, alpha=1, lambda=grid)\n",
    "lasso.coeff=predict(out, type=\"coefficients\", s=bestlam)[1:14,]\n",
    "lasso.coeff"
   ]
  }
 ],
 "metadata": {
  "anaconda-cloud": {},
  "kernelspec": {
   "display_name": "R",
   "language": "R",
   "name": "ir"
  },
  "language_info": {
   "codemirror_mode": "r",
   "file_extension": ".r",
   "mimetype": "text/x-r-source",
   "name": "R",
   "pygments_lexer": "r",
   "version": "3.3.1"
  }
 },
 "nbformat": 4,
 "nbformat_minor": 0
}
