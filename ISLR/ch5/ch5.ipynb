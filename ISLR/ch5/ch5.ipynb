{
 "cells": [
  {
   "cell_type": "markdown",
   "metadata": {},
   "source": [
    "## Exercise 5"
   ]
  },
  {
   "cell_type": "code",
   "execution_count": 69,
   "metadata": {
    "collapsed": false
   },
   "outputs": [
    {
     "data": {
      "text/plain": [
       " default    student       balance           income     \n",
       " No :9667   No :7056   Min.   :   0.0   Min.   :  772  \n",
       " Yes: 333   Yes:2944   1st Qu.: 481.7   1st Qu.:21340  \n",
       "                       Median : 823.6   Median :34553  \n",
       "                       Mean   : 835.4   Mean   :33517  \n",
       "                       3rd Qu.:1166.3   3rd Qu.:43808  \n",
       "                       Max.   :2654.3   Max.   :73554  "
      ]
     },
     "metadata": {},
     "output_type": "display_data"
    }
   ],
   "source": [
    "library(ISLR)\n",
    "set.seed(1)\n",
    "summary(Default)"
   ]
  },
  {
   "cell_type": "code",
   "execution_count": 70,
   "metadata": {
    "collapsed": false
   },
   "outputs": [
    {
     "name": "stdout",
     "output_type": "stream",
     "text": [
      "'data.frame':\t10000 obs. of  4 variables:\n",
      " $ default: Factor w/ 2 levels \"No\",\"Yes\": 1 1 1 1 1 1 1 1 1 1 ...\n",
      " $ student: Factor w/ 2 levels \"No\",\"Yes\": 1 2 1 1 1 2 1 2 1 1 ...\n",
      " $ balance: num  730 817 1074 529 786 ...\n",
      " $ income : num  44362 12106 31767 35704 38463 ...\n"
     ]
    }
   ],
   "source": [
    "str(Default)"
   ]
  },
  {
   "cell_type": "markdown",
   "metadata": {},
   "source": [
    "## (a)"
   ]
  },
  {
   "cell_type": "code",
   "execution_count": 71,
   "metadata": {
    "collapsed": false
   },
   "outputs": [
    {
     "data": {
      "text/plain": [
       "\n",
       "Call:\n",
       "glm(formula = default ~ income + balance, family = binomial, \n",
       "    data = Default)\n",
       "\n",
       "Deviance Residuals: \n",
       "    Min       1Q   Median       3Q      Max  \n",
       "-2.4725  -0.1444  -0.0574  -0.0211   3.7245  \n",
       "\n",
       "Coefficients:\n",
       "              Estimate Std. Error z value Pr(>|z|)    \n",
       "(Intercept) -1.154e+01  4.348e-01 -26.545  < 2e-16 ***\n",
       "income       2.081e-05  4.985e-06   4.174 2.99e-05 ***\n",
       "balance      5.647e-03  2.274e-04  24.836  < 2e-16 ***\n",
       "---\n",
       "Signif. codes:  0 '***' 0.001 '**' 0.01 '*' 0.05 '.' 0.1 ' ' 1\n",
       "\n",
       "(Dispersion parameter for binomial family taken to be 1)\n",
       "\n",
       "    Null deviance: 2920.6  on 9999  degrees of freedom\n",
       "Residual deviance: 1579.0  on 9997  degrees of freedom\n",
       "AIC: 1585\n",
       "\n",
       "Number of Fisher Scoring iterations: 8\n"
      ]
     },
     "metadata": {},
     "output_type": "display_data"
    }
   ],
   "source": [
    "glm.fit = glm(default ~ income + balance, data=Default, family=binomial)\n",
    "summary(glm.fit)"
   ]
  },
  {
   "cell_type": "markdown",
   "metadata": {},
   "source": [
    "### (b)"
   ]
  },
  {
   "cell_type": "code",
   "execution_count": 72,
   "metadata": {
    "collapsed": false
   },
   "outputs": [
    {
     "data": {
      "text/plain": [
       "\n",
       "Call:\n",
       "glm(formula = default ~ income + balance, family = binomial, \n",
       "    data = train.X)\n",
       "\n",
       "Deviance Residuals: \n",
       "    Min       1Q   Median       3Q      Max  \n",
       "-2.3616  -0.1601  -0.0672  -0.0260   3.6245  \n",
       "\n",
       "Coefficients:\n",
       "              Estimate Std. Error z value Pr(>|z|)    \n",
       "(Intercept) -1.107e+01  5.730e-01 -19.316  < 2e-16 ***\n",
       "income       2.275e-05  6.645e-06   3.423 0.000618 ***\n",
       "balance      5.290e-03  3.007e-04  17.592  < 2e-16 ***\n",
       "---\n",
       "Signif. codes:  0 '***' 0.001 '**' 0.01 '*' 0.05 '.' 0.1 ' ' 1\n",
       "\n",
       "(Dispersion parameter for binomial family taken to be 1)\n",
       "\n",
       "    Null deviance: 1463.69  on 4999  degrees of freedom\n",
       "Residual deviance:  840.83  on 4997  degrees of freedom\n",
       "AIC: 846.83\n",
       "\n",
       "Number of Fisher Scoring iterations: 8\n"
      ]
     },
     "metadata": {},
     "output_type": "display_data"
    }
   ],
   "source": [
    "frac = 0.5\n",
    "test = sample(nrow(Default), round(nrow(Default)*frac))\n",
    "test.X  = Default[test, ]\n",
    "train.X = Default[-test, ]\n",
    "test.Y  = Default$default[test]\n",
    "train.Y = Default$default[-test]\n",
    "\n",
    "glm.fit1 = glm(default ~ income + balance, data=train.X, family=binomial)\n",
    "summary(glm.fit1)"
   ]
  },
  {
   "cell_type": "code",
   "execution_count": 73,
   "metadata": {
    "collapsed": false
   },
   "outputs": [
    {
     "data": {
      "text/plain": [
       "         test.Y\n",
       "glm.pred1   No  Yes\n",
       "      No  4823  117\n",
       "      Yes   11   49"
      ]
     },
     "metadata": {},
     "output_type": "display_data"
    }
   ],
   "source": [
    "glm.probs1 = predict(glm.fit1, test.X, type=\"response\")\n",
    "glm.pred1 = rep(\"No\", nrow(test.X))\n",
    "glm.pred1[glm.probs1 > 0.5] = \"Yes\"\n",
    "table(glm.pred1, test.Y)"
   ]
  },
  {
   "cell_type": "code",
   "execution_count": 74,
   "metadata": {
    "collapsed": false
   },
   "outputs": [
    {
     "data": {
      "text/html": [
       "0.0256"
      ],
      "text/latex": [
       "0.0256"
      ],
      "text/markdown": [
       "0.0256"
      ],
      "text/plain": [
       "[1] 0.0256"
      ]
     },
     "metadata": {},
     "output_type": "display_data"
    }
   ],
   "source": [
    "mean(glm.pred1 != test.Y)"
   ]
  },
  {
   "cell_type": "markdown",
   "metadata": {},
   "source": [
    "### (c)"
   ]
  },
  {
   "cell_type": "code",
   "execution_count": 75,
   "metadata": {
    "collapsed": false
   },
   "outputs": [
    {
     "data": {
      "text/plain": [
       "\n",
       "Call:\n",
       "glm(formula = default ~ income + balance, family = binomial, \n",
       "    data = train.X)\n",
       "\n",
       "Deviance Residuals: \n",
       "    Min       1Q   Median       3Q      Max  \n",
       "-2.4761  -0.1319  -0.0539  -0.0193   3.7717  \n",
       "\n",
       "Coefficients:\n",
       "              Estimate Std. Error z value Pr(>|z|)    \n",
       "(Intercept) -1.175e+01  6.344e-01 -18.522  < 2e-16 ***\n",
       "income       1.898e-05  7.161e-06   2.651  0.00803 ** \n",
       "balance      5.777e-03  3.303e-04  17.492  < 2e-16 ***\n",
       "---\n",
       "Signif. codes:  0 '***' 0.001 '**' 0.01 '*' 0.05 '.' 0.1 ' ' 1\n",
       "\n",
       "(Dispersion parameter for binomial family taken to be 1)\n",
       "\n",
       "    Null deviance: 1436.67  on 4999  degrees of freedom\n",
       "Residual deviance:  748.69  on 4997  degrees of freedom\n",
       "AIC: 754.69\n",
       "\n",
       "Number of Fisher Scoring iterations: 8\n"
      ]
     },
     "metadata": {},
     "output_type": "display_data"
    }
   ],
   "source": [
    "test = sample(nrow(Default), round(nrow(Default)*frac))\n",
    "test.X  = Default[test, ]\n",
    "train.X = Default[-test, ]\n",
    "test.Y  = Default$default[test]\n",
    "train.Y = Default$default[-test]\n",
    "\n",
    "glm.fit1 = glm(default ~ income + balance, data=train.X, family=binomial)\n",
    "summary(glm.fit1)"
   ]
  },
  {
   "cell_type": "code",
   "execution_count": 76,
   "metadata": {
    "collapsed": false
   },
   "outputs": [
    {
     "data": {
      "text/plain": [
       "         test.Y\n",
       "glm.pred1   No  Yes\n",
       "      No  4811  125\n",
       "      Yes   19   45"
      ]
     },
     "metadata": {},
     "output_type": "display_data"
    }
   ],
   "source": [
    "glm.probs1 = predict(glm.fit1, test.X, type=\"response\")\n",
    "glm.pred1 = rep(\"No\", nrow(test.X))\n",
    "glm.pred1[glm.probs1 > 0.5] = \"Yes\"\n",
    "table(glm.pred1, test.Y)"
   ]
  },
  {
   "cell_type": "code",
   "execution_count": 77,
   "metadata": {
    "collapsed": false
   },
   "outputs": [
    {
     "data": {
      "text/html": [
       "0.0288"
      ],
      "text/latex": [
       "0.0288"
      ],
      "text/markdown": [
       "0.0288"
      ],
      "text/plain": [
       "[1] 0.0288"
      ]
     },
     "metadata": {},
     "output_type": "display_data"
    }
   ],
   "source": [
    "mean(glm.pred1 != test.Y)"
   ]
  },
  {
   "cell_type": "code",
   "execution_count": 78,
   "metadata": {
    "collapsed": false
   },
   "outputs": [
    {
     "data": {
      "text/plain": [
       "\n",
       "Call:\n",
       "glm(formula = default ~ income + balance, family = binomial, \n",
       "    data = train.X)\n",
       "\n",
       "Deviance Residuals: \n",
       "    Min       1Q   Median       3Q      Max  \n",
       "-2.3425  -0.1596  -0.0670  -0.0260   3.6351  \n",
       "\n",
       "Coefficients:\n",
       "              Estimate Std. Error z value Pr(>|z|)    \n",
       "(Intercept) -1.081e+01  5.751e-01 -18.798   <2e-16 ***\n",
       "income       1.620e-05  6.944e-06   2.332   0.0197 *  \n",
       "balance      5.301e-03  3.032e-04  17.484   <2e-16 ***\n",
       "---\n",
       "Signif. codes:  0 '***' 0.001 '**' 0.01 '*' 0.05 '.' 0.1 ' ' 1\n",
       "\n",
       "(Dispersion parameter for binomial family taken to be 1)\n",
       "\n",
       "    Null deviance: 1456.95  on 4999  degrees of freedom\n",
       "Residual deviance:  836.26  on 4997  degrees of freedom\n",
       "AIC: 842.26\n",
       "\n",
       "Number of Fisher Scoring iterations: 8\n"
      ]
     },
     "metadata": {},
     "output_type": "display_data"
    }
   ],
   "source": [
    "test = sample(nrow(Default), round(nrow(Default)*frac))\n",
    "test.X  = Default[test, ]\n",
    "train.X = Default[-test, ]\n",
    "test.Y  = Default$default[test]\n",
    "train.Y = Default$default[-test]\n",
    "\n",
    "glm.fit1 = glm(default ~ income + balance, data=train.X, family=binomial)\n",
    "summary(glm.fit1)"
   ]
  },
  {
   "cell_type": "code",
   "execution_count": 79,
   "metadata": {
    "collapsed": false
   },
   "outputs": [
    {
     "data": {
      "text/plain": [
       "         test.Y\n",
       "glm.pred1   No  Yes\n",
       "      No  4818  113\n",
       "      Yes   15   54"
      ]
     },
     "metadata": {},
     "output_type": "display_data"
    }
   ],
   "source": [
    "glm.probs1 = predict(glm.fit1, test.X, type=\"response\")\n",
    "glm.pred1 = rep(\"No\", nrow(test.X))\n",
    "glm.pred1[glm.probs1 > 0.5] = \"Yes\"\n",
    "table(glm.pred1, test.Y)"
   ]
  },
  {
   "cell_type": "code",
   "execution_count": 80,
   "metadata": {
    "collapsed": false
   },
   "outputs": [
    {
     "data": {
      "text/html": [
       "0.0256"
      ],
      "text/latex": [
       "0.0256"
      ],
      "text/markdown": [
       "0.0256"
      ],
      "text/plain": [
       "[1] 0.0256"
      ]
     },
     "metadata": {},
     "output_type": "display_data"
    }
   ],
   "source": [
    "mean(glm.pred1 != test.Y)"
   ]
  },
  {
   "cell_type": "code",
   "execution_count": 81,
   "metadata": {
    "collapsed": false
   },
   "outputs": [
    {
     "data": {
      "text/plain": [
       "\n",
       "Call:\n",
       "glm(formula = default ~ income + balance, family = binomial, \n",
       "    data = train.X)\n",
       "\n",
       "Deviance Residuals: \n",
       "    Min       1Q   Median       3Q      Max  \n",
       "-2.5371  -0.1426  -0.0556  -0.0193   3.7591  \n",
       "\n",
       "Coefficients:\n",
       "              Estimate Std. Error z value Pr(>|z|)    \n",
       "(Intercept) -1.172e+01  6.211e-01 -18.874   <2e-16 ***\n",
       "income       1.785e-05  6.934e-06   2.574   0.0101 *  \n",
       "balance      5.856e-03  3.326e-04  17.605   <2e-16 ***\n",
       "---\n",
       "Signif. codes:  0 '***' 0.001 '**' 0.01 '*' 0.05 '.' 0.1 ' ' 1\n",
       "\n",
       "(Dispersion parameter for binomial family taken to be 1)\n",
       "\n",
       "    Null deviance: 1483.83  on 4999  degrees of freedom\n",
       "Residual deviance:  796.01  on 4997  degrees of freedom\n",
       "AIC: 802.01\n",
       "\n",
       "Number of Fisher Scoring iterations: 8\n"
      ]
     },
     "metadata": {},
     "output_type": "display_data"
    }
   ],
   "source": [
    "test = sample(nrow(Default), round(nrow(Default)*frac))\n",
    "test.X  = Default[test, ]\n",
    "train.X = Default[-test, ]\n",
    "test.Y  = Default$default[test]\n",
    "train.Y = Default$default[-test]\n",
    "\n",
    "glm.fit1 = glm(default ~ income + balance, data=train.X, family=binomial)\n",
    "summary(glm.fit1)"
   ]
  },
  {
   "cell_type": "code",
   "execution_count": 82,
   "metadata": {
    "collapsed": false
   },
   "outputs": [
    {
     "data": {
      "text/plain": [
       "         test.Y\n",
       "glm.pred1   No  Yes\n",
       "      No  4808  106\n",
       "      Yes   29   57"
      ]
     },
     "metadata": {},
     "output_type": "display_data"
    }
   ],
   "source": [
    "glm.probs1 = predict(glm.fit1, test.X, type=\"response\")\n",
    "glm.pred1 = rep(\"No\", nrow(test.X))\n",
    "glm.pred1[glm.probs1 > 0.5] = \"Yes\"\n",
    "table(glm.pred1, test.Y)"
   ]
  },
  {
   "cell_type": "code",
   "execution_count": 83,
   "metadata": {
    "collapsed": false
   },
   "outputs": [
    {
     "data": {
      "text/html": [
       "0.027"
      ],
      "text/latex": [
       "0.027"
      ],
      "text/markdown": [
       "0.027"
      ],
      "text/plain": [
       "[1] 0.027"
      ]
     },
     "metadata": {},
     "output_type": "display_data"
    }
   ],
   "source": [
    "mean(glm.pred1 != test.Y)"
   ]
  },
  {
   "cell_type": "markdown",
   "metadata": {},
   "source": [
    "### (d)"
   ]
  },
  {
   "cell_type": "code",
   "execution_count": 84,
   "metadata": {
    "collapsed": false
   },
   "outputs": [
    {
     "data": {
      "text/plain": [
       "\n",
       "Call:\n",
       "glm(formula = default ~ income + balance + student, family = binomial, \n",
       "    data = train.X)\n",
       "\n",
       "Deviance Residuals: \n",
       "    Min       1Q   Median       3Q      Max  \n",
       "-2.5349  -0.1407  -0.0543  -0.0188   3.7212  \n",
       "\n",
       "Coefficients:\n",
       "              Estimate Std. Error z value Pr(>|z|)    \n",
       "(Intercept) -1.113e+01  7.052e-01 -15.783   <2e-16 ***\n",
       "income       1.662e-06  1.190e-05   0.140   0.8889    \n",
       "balance      5.946e-03  3.406e-04  17.460   <2e-16 ***\n",
       "studentYes  -5.753e-01  3.422e-01  -1.681   0.0928 .  \n",
       "---\n",
       "Signif. codes:  0 '***' 0.001 '**' 0.01 '*' 0.05 '.' 0.1 ' ' 1\n",
       "\n",
       "(Dispersion parameter for binomial family taken to be 1)\n",
       "\n",
       "    Null deviance: 1483.83  on 4999  degrees of freedom\n",
       "Residual deviance:  793.21  on 4996  degrees of freedom\n",
       "AIC: 801.21\n",
       "\n",
       "Number of Fisher Scoring iterations: 8\n"
      ]
     },
     "metadata": {},
     "output_type": "display_data"
    }
   ],
   "source": [
    "glm.fit1 = glm(default ~ income + balance + student, data=train.X, family=binomial)\n",
    "summary(glm.fit1)"
   ]
  },
  {
   "cell_type": "code",
   "execution_count": 85,
   "metadata": {
    "collapsed": false
   },
   "outputs": [
    {
     "data": {
      "text/plain": [
       "         test.Y\n",
       "glm.pred1   No  Yes\n",
       "      No  4808  104\n",
       "      Yes   29   59"
      ]
     },
     "metadata": {},
     "output_type": "display_data"
    }
   ],
   "source": [
    "glm.probs1 = predict(glm.fit1, test.X, type=\"response\")\n",
    "glm.pred1 = rep(\"No\", nrow(test.X))\n",
    "glm.pred1[glm.probs1 > 0.5] = \"Yes\"\n",
    "table(glm.pred1, test.Y)"
   ]
  },
  {
   "cell_type": "code",
   "execution_count": 86,
   "metadata": {
    "collapsed": false
   },
   "outputs": [
    {
     "data": {
      "text/html": [
       "0.0266"
      ],
      "text/latex": [
       "0.0266"
      ],
      "text/markdown": [
       "0.0266"
      ],
      "text/plain": [
       "[1] 0.0266"
      ]
     },
     "metadata": {},
     "output_type": "display_data"
    }
   ],
   "source": [
    "mean(glm.pred1 != test.Y)"
   ]
  },
  {
   "cell_type": "markdown",
   "metadata": {},
   "source": [
    "## Exercise 6"
   ]
  },
  {
   "cell_type": "markdown",
   "metadata": {},
   "source": [
    "### (a)"
   ]
  },
  {
   "cell_type": "code",
   "execution_count": 87,
   "metadata": {
    "collapsed": false
   },
   "outputs": [
    {
     "data": {
      "text/plain": [
       "\n",
       "Call:\n",
       "glm(formula = default ~ income + balance, family = binomial, \n",
       "    data = Default)\n",
       "\n",
       "Deviance Residuals: \n",
       "    Min       1Q   Median       3Q      Max  \n",
       "-2.4725  -0.1444  -0.0574  -0.0211   3.7245  \n",
       "\n",
       "Coefficients:\n",
       "              Estimate Std. Error z value Pr(>|z|)    \n",
       "(Intercept) -1.154e+01  4.348e-01 -26.545  < 2e-16 ***\n",
       "income       2.081e-05  4.985e-06   4.174 2.99e-05 ***\n",
       "balance      5.647e-03  2.274e-04  24.836  < 2e-16 ***\n",
       "---\n",
       "Signif. codes:  0 '***' 0.001 '**' 0.01 '*' 0.05 '.' 0.1 ' ' 1\n",
       "\n",
       "(Dispersion parameter for binomial family taken to be 1)\n",
       "\n",
       "    Null deviance: 2920.6  on 9999  degrees of freedom\n",
       "Residual deviance: 1579.0  on 9997  degrees of freedom\n",
       "AIC: 1585\n",
       "\n",
       "Number of Fisher Scoring iterations: 8\n"
      ]
     },
     "metadata": {},
     "output_type": "display_data"
    }
   ],
   "source": [
    "glm.fit = glm(default ~ income + balance, data=Default, family=binomial)\n",
    "summary(glm.fit)"
   ]
  },
  {
   "cell_type": "markdown",
   "metadata": {},
   "source": [
    "### (b)"
   ]
  },
  {
   "cell_type": "code",
   "execution_count": 88,
   "metadata": {
    "collapsed": false
   },
   "outputs": [
    {
     "data": {
      "text/html": [
       "<dl class=dl-horizontal>\n",
       "\t<dt>income</dt>\n",
       "\t\t<dd>2.08089755005988e-05</dd>\n",
       "\t<dt>balance</dt>\n",
       "\t\t<dd>0.00564710294333903</dd>\n",
       "</dl>\n"
      ],
      "text/latex": [
       "\\begin{description*}\n",
       "\\item[income] 2.08089755005988e-05\n",
       "\\item[balance] 0.00564710294333903\n",
       "\\end{description*}\n"
      ],
      "text/markdown": [
       "income\n",
       ":   2.08089755005988e-05balance\n",
       ":   0.00564710294333903\n",
       "\n"
      ],
      "text/plain": [
       "      income      balance \n",
       "2.080898e-05 5.647103e-03 "
      ]
     },
     "metadata": {},
     "output_type": "display_data"
    }
   ],
   "source": [
    "coef(glm.fit)[-1]"
   ]
  },
  {
   "cell_type": "code",
   "execution_count": 89,
   "metadata": {
    "collapsed": false
   },
   "outputs": [
    {
     "data": {
      "text/html": [
       "<dl class=dl-horizontal>\n",
       "\t<dt>income</dt>\n",
       "\t\t<dd>3.82452913990062e-19</dd>\n",
       "\t<dt>balance</dt>\n",
       "\t\t<dd>-6.57937180438331e-19</dd>\n",
       "</dl>\n"
      ],
      "text/latex": [
       "\\begin{description*}\n",
       "\\item[income] 3.82452913990062e-19\n",
       "\\item[balance] -6.57937180438331e-19\n",
       "\\end{description*}\n"
      ],
      "text/markdown": [
       "income\n",
       ":   3.82452913990062e-19balance\n",
       ":   -6.57937180438331e-19\n",
       "\n"
      ],
      "text/plain": [
       "       income       balance \n",
       " 3.824529e-19 -6.579372e-19 "
      ]
     },
     "metadata": {},
     "output_type": "display_data"
    }
   ],
   "source": [
    "boot.fn = function(data, index)\n",
    "    return(coef(glm(default ~ income + balance, data=Default, subset=index, family=binomial))[-1])\n",
    "boot.fn(Default, 1:10)"
   ]
  },
  {
   "cell_type": "markdown",
   "metadata": {},
   "source": [
    "### (c)"
   ]
  },
  {
   "cell_type": "code",
   "execution_count": 90,
   "metadata": {
    "collapsed": false
   },
   "outputs": [],
   "source": [
    "library(\"boot\")"
   ]
  },
  {
   "cell_type": "code",
   "execution_count": 91,
   "metadata": {
    "collapsed": false
   },
   "outputs": [
    {
     "data": {
      "text/plain": [
       "\n",
       "ORDINARY NONPARAMETRIC BOOTSTRAP\n",
       "\n",
       "\n",
       "Call:\n",
       "boot(data = Default, statistic = boot.fn, R = 1000)\n",
       "\n",
       "\n",
       "Bootstrap Statistics :\n",
       "        original       bias     std. error\n",
       "t1* 2.080898e-05 5.160434e-08 4.588946e-06\n",
       "t2* 5.647103e-03 2.195571e-06 2.270660e-04"
      ]
     },
     "metadata": {},
     "output_type": "display_data"
    }
   ],
   "source": [
    "boot(Default, boot.fn, 1000)"
   ]
  },
  {
   "cell_type": "markdown",
   "metadata": {},
   "source": [
    "### (d)"
   ]
  },
  {
   "cell_type": "markdown",
   "metadata": {},
   "source": [
    "They are almost identical."
   ]
  },
  {
   "cell_type": "markdown",
   "metadata": {},
   "source": [
    "## Exercise 7"
   ]
  },
  {
   "cell_type": "markdown",
   "metadata": {},
   "source": [
    "### (a)"
   ]
  },
  {
   "cell_type": "code",
   "execution_count": 92,
   "metadata": {
    "collapsed": false
   },
   "outputs": [
    {
     "data": {
      "text/plain": [
       "\n",
       "Call:\n",
       "glm(formula = Direction ~ Lag1 + Lag2, family = binomial, data = Weekly)\n",
       "\n",
       "Deviance Residuals: \n",
       "   Min      1Q  Median      3Q     Max  \n",
       "-1.623  -1.261   1.001   1.083   1.506  \n",
       "\n",
       "Coefficients:\n",
       "            Estimate Std. Error z value Pr(>|z|)    \n",
       "(Intercept)  0.22122    0.06147   3.599 0.000319 ***\n",
       "Lag1        -0.03872    0.02622  -1.477 0.139672    \n",
       "Lag2         0.06025    0.02655   2.270 0.023232 *  \n",
       "---\n",
       "Signif. codes:  0 '***' 0.001 '**' 0.01 '*' 0.05 '.' 0.1 ' ' 1\n",
       "\n",
       "(Dispersion parameter for binomial family taken to be 1)\n",
       "\n",
       "    Null deviance: 1496.2  on 1088  degrees of freedom\n",
       "Residual deviance: 1488.2  on 1086  degrees of freedom\n",
       "AIC: 1494.2\n",
       "\n",
       "Number of Fisher Scoring iterations: 4\n"
      ]
     },
     "metadata": {},
     "output_type": "display_data"
    }
   ],
   "source": [
    "glm.fit = glm(Direction ~ Lag1 + Lag2, data=Weekly, family=binomial)\n",
    "summary(glm.fit)"
   ]
  },
  {
   "cell_type": "markdown",
   "metadata": {},
   "source": [
    "### (b)"
   ]
  },
  {
   "cell_type": "code",
   "execution_count": 93,
   "metadata": {
    "collapsed": false
   },
   "outputs": [
    {
     "data": {
      "text/plain": [
       "\n",
       "Call:\n",
       "glm(formula = Direction ~ Lag1 + Lag2, family = binomial, data = Weekly[-1, \n",
       "    ])\n",
       "\n",
       "Deviance Residuals: \n",
       "    Min       1Q   Median       3Q      Max  \n",
       "-1.6258  -1.2617   0.9999   1.0819   1.5071  \n",
       "\n",
       "Coefficients:\n",
       "            Estimate Std. Error z value Pr(>|z|)    \n",
       "(Intercept)  0.22324    0.06150   3.630 0.000283 ***\n",
       "Lag1        -0.03843    0.02622  -1.466 0.142683    \n",
       "Lag2         0.06085    0.02656   2.291 0.021971 *  \n",
       "---\n",
       "Signif. codes:  0 '***' 0.001 '**' 0.01 '*' 0.05 '.' 0.1 ' ' 1\n",
       "\n",
       "(Dispersion parameter for binomial family taken to be 1)\n",
       "\n",
       "    Null deviance: 1494.6  on 1087  degrees of freedom\n",
       "Residual deviance: 1486.5  on 1085  degrees of freedom\n",
       "AIC: 1492.5\n",
       "\n",
       "Number of Fisher Scoring iterations: 4\n"
      ]
     },
     "metadata": {},
     "output_type": "display_data"
    }
   ],
   "source": [
    "glm.fit = glm(Direction ~ Lag1 + Lag2, data=Weekly[-1, ], family=binomial)\n",
    "summary(glm.fit)"
   ]
  },
  {
   "cell_type": "markdown",
   "metadata": {},
   "source": [
    "### (c)"
   ]
  },
  {
   "cell_type": "code",
   "execution_count": 94,
   "metadata": {
    "collapsed": false
   },
   "outputs": [
    {
     "data": {
      "text/html": [
       "<strong>1:</strong> 0.571392320520443"
      ],
      "text/latex": [
       "\\textbf{1:} 0.571392320520443"
      ],
      "text/markdown": [
       "**1:** 0.571392320520443"
      ],
      "text/plain": [
       "        1 \n",
       "0.5713923 "
      ]
     },
     "metadata": {},
     "output_type": "display_data"
    }
   ],
   "source": [
    "predict(glm.fit, Weekly[1, ], type=\"response\")"
   ]
  },
  {
   "cell_type": "code",
   "execution_count": 95,
   "metadata": {
    "collapsed": false
   },
   "outputs": [
    {
     "data": {
      "text/html": [
       "<table>\n",
       "<thead><tr><th></th><th scope=col>Up</th></tr></thead>\n",
       "<tbody>\n",
       "\t<tr><th scope=row>Down</th><td>0</td></tr>\n",
       "\t<tr><th scope=row>Up</th><td>1</td></tr>\n",
       "</tbody>\n",
       "</table>\n"
      ],
      "text/latex": [
       "\\begin{tabular}{r|l}\n",
       "  & Up\\\\\n",
       "\\hline\n",
       "\tDown & 0\\\\\n",
       "\tUp & 1\\\\\n",
       "\\end{tabular}\n"
      ],
      "text/markdown": [
       "1. 0\n",
       "2. 1\n",
       "\n",
       "\n"
      ],
      "text/plain": [
       "     Up\n",
       "Down  0\n",
       "Up    1"
      ]
     },
     "metadata": {},
     "output_type": "display_data"
    }
   ],
   "source": [
    "contrasts(Weekly$Direction)"
   ]
  },
  {
   "cell_type": "code",
   "execution_count": 96,
   "metadata": {
    "collapsed": false
   },
   "outputs": [
    {
     "data": {
      "text/html": [
       "Down"
      ],
      "text/latex": [
       "Down"
      ],
      "text/markdown": [
       "Down"
      ],
      "text/plain": [
       "[1] Down\n",
       "Levels: Down Up"
      ]
     },
     "metadata": {},
     "output_type": "display_data"
    }
   ],
   "source": [
    "Weekly$Direction[1]"
   ]
  },
  {
   "cell_type": "markdown",
   "metadata": {},
   "source": [
    "Thus the first observation was not correctly classified."
   ]
  },
  {
   "cell_type": "markdown",
   "metadata": {},
   "source": [
    "### (d)"
   ]
  },
  {
   "cell_type": "code",
   "execution_count": 97,
   "metadata": {
    "collapsed": true
   },
   "outputs": [],
   "source": [
    "glm.err = rep(0, nrow(Weekly))\n",
    "for (i in 1:nrow(Weekly)){\n",
    "    glm.fit = glm(Direction ~ Lag1 + Lag2, data=Weekly[-i, ], family=binomial)\n",
    "    p = predict(glm.fit, Weekly[i, ], type=\"response\")\n",
    "    if (p > 0.5) {pred = \"Up\"} else {pred = \"Down\"}\n",
    "    if (pred != Weekly$Direction[i]) {glm.err[i] = 1}\n",
    "}"
   ]
  },
  {
   "cell_type": "markdown",
   "metadata": {},
   "source": [
    "### (e)"
   ]
  },
  {
   "cell_type": "code",
   "execution_count": 98,
   "metadata": {
    "collapsed": false
   },
   "outputs": [
    {
     "data": {
      "text/html": [
       "0.449954086317723"
      ],
      "text/latex": [
       "0.449954086317723"
      ],
      "text/markdown": [
       "0.449954086317723"
      ],
      "text/plain": [
       "[1] 0.4499541"
      ]
     },
     "metadata": {},
     "output_type": "display_data"
    }
   ],
   "source": [
    "mean(glm.err)"
   ]
  },
  {
   "cell_type": "markdown",
   "metadata": {},
   "source": [
    "We are doing slightly worse than random guessing!"
   ]
  },
  {
   "cell_type": "markdown",
   "metadata": {},
   "source": [
    "## Exercise 8"
   ]
  },
  {
   "cell_type": "markdown",
   "metadata": {},
   "source": [
    "### (a)"
   ]
  },
  {
   "cell_type": "code",
   "execution_count": 99,
   "metadata": {
    "collapsed": true
   },
   "outputs": [],
   "source": [
    "x = rnorm(100)\n",
    "y = x - 2*x^2 + rnorm(100)"
   ]
  },
  {
   "cell_type": "markdown",
   "metadata": {},
   "source": [
    "$n = 100$,\n",
    "$p = 2$,\n",
    "$Y = X - 2X^2 + \\epsilon$."
   ]
  },
  {
   "cell_type": "markdown",
   "metadata": {},
   "source": [
    "### (b)"
   ]
  },
  {
   "cell_type": "code",
   "execution_count": 100,
   "metadata": {
    "collapsed": false
   },
   "outputs": [
    {
     "data": {
      "image/png": "[encoded data removed]",
      "text/plain": [
       "plot without title"
      ]
     },
     "metadata": {},
     "output_type": "display_data"
    }
   ],
   "source": [
    "plot(x, y)"
   ]
  },
  {
   "cell_type": "markdown",
   "metadata": {},
   "source": [
    "A parabola as can be expected from the above equation."
   ]
  },
  {
   "cell_type": "markdown",
   "metadata": {},
   "source": [
    "### (c)"
   ]
  },
  {
   "cell_type": "code",
   "execution_count": 101,
   "metadata": {
    "collapsed": false
   },
   "outputs": [
    {
     "data": {
      "text/plain": [
       "       y                   x           \n",
       " Min.   :-18.35844   Min.   :-2.75876  \n",
       " 1st Qu.: -3.05775   1st Qu.:-0.74311  \n",
       " Median : -0.98189   Median :-0.07298  \n",
       " Mean   : -2.11569   Mean   :-0.09851  \n",
       " 3rd Qu.:  0.08008   3rd Qu.: 0.45424  \n",
       " Max.   :  1.65713   Max.   : 2.82800  "
      ]
     },
     "metadata": {},
     "output_type": "display_data"
    }
   ],
   "source": [
    "df = data.frame(y, x)\n",
    "summary(df)"
   ]
  },
  {
   "cell_type": "code",
   "execution_count": 102,
   "metadata": {
    "collapsed": false
   },
   "outputs": [
    {
     "name": "stdout",
     "output_type": "stream",
     "text": [
      "'data.frame':\t100 obs. of  2 variables:\n",
      " $ y: num  -11.131 -8.845 -0.119 -0.946 -3.104 ...\n",
      " $ x: num  2.786 -1.998 -0.218 -0.447 -0.965 ...\n"
     ]
    }
   ],
   "source": [
    "str(df)"
   ]
  },
  {
   "cell_type": "code",
   "execution_count": 103,
   "metadata": {
    "collapsed": false
   },
   "outputs": [
    {
     "data": {
      "text/plain": [
       "\n",
       "Call:\n",
       "glm(formula = y ~ x, data = df)\n",
       "\n",
       "Deviance Residuals: \n",
       "     Min        1Q    Median        3Q       Max  \n",
       "-15.3793   -0.5564    0.9786    2.0534    3.6070  \n",
       "\n",
       "Coefficients:\n",
       "            Estimate Std. Error t value Pr(>|t|)    \n",
       "(Intercept)  -2.0369     0.3417  -5.960 3.97e-08 ***\n",
       "x             0.7999     0.3512   2.278   0.0249 *  \n",
       "---\n",
       "Signif. codes:  0 '***' 0.001 '**' 0.01 '*' 0.05 '.' 0.1 ' ' 1\n",
       "\n",
       "(Dispersion parameter for gaussian family taken to be 11.55959)\n",
       "\n",
       "    Null deviance: 1192.8  on 99  degrees of freedom\n",
       "Residual deviance: 1132.8  on 98  degrees of freedom\n",
       "AIC: 532.52\n",
       "\n",
       "Number of Fisher Scoring iterations: 2\n"
      ]
     },
     "metadata": {},
     "output_type": "display_data"
    }
   ],
   "source": [
    "glm.fit1 = glm(y ~ x, data=df)\n",
    "summary(glm.fit1)"
   ]
  },
  {
   "cell_type": "code",
   "execution_count": 104,
   "metadata": {
    "collapsed": false
   },
   "outputs": [
    {
     "data": {
      "text/plain": [
       "\n",
       "Call:\n",
       "glm(formula = y ~ poly(x, 2), data = df)\n",
       "\n",
       "Deviance Residuals: \n",
       "    Min       1Q   Median       3Q      Max  \n",
       "-2.8023  -0.6803   0.0199   0.6418   2.4960  \n",
       "\n",
       "Coefficients:\n",
       "            Estimate Std. Error t value Pr(>|t|)    \n",
       "(Intercept)  -2.1157     0.1004 -21.073  < 2e-16 ***\n",
       "poly(x, 2)1   7.7443     1.0040   7.714 1.08e-11 ***\n",
       "poly(x, 2)2 -32.1724     1.0040 -32.045  < 2e-16 ***\n",
       "---\n",
       "Signif. codes:  0 '***' 0.001 '**' 0.01 '*' 0.05 '.' 0.1 ' ' 1\n",
       "\n",
       "(Dispersion parameter for gaussian family taken to be 1.007997)\n",
       "\n",
       "    Null deviance: 1192.815  on 99  degrees of freedom\n",
       "Residual deviance:   97.776  on 97  degrees of freedom\n",
       "AIC: 289.54\n",
       "\n",
       "Number of Fisher Scoring iterations: 2\n"
      ]
     },
     "metadata": {},
     "output_type": "display_data"
    }
   ],
   "source": [
    "glm.fit2 = glm(y ~ poly(x, 2), data=df)\n",
    "summary(glm.fit2)"
   ]
  },
  {
   "cell_type": "code",
   "execution_count": 105,
   "metadata": {
    "collapsed": false
   },
   "outputs": [
    {
     "data": {
      "text/plain": [
       "\n",
       "Call:\n",
       "glm(formula = y ~ poly(x, 3), data = df)\n",
       "\n",
       "Deviance Residuals: \n",
       "     Min        1Q    Median        3Q       Max  \n",
       "-2.74903  -0.68769   0.06637   0.61191   2.28612  \n",
       "\n",
       "Coefficients:\n",
       "            Estimate Std. Error t value Pr(>|t|)    \n",
       "(Intercept)  -2.1157     0.1007 -21.000  < 2e-16 ***\n",
       "poly(x, 3)1   7.7443     1.0075   7.687  1.3e-11 ***\n",
       "poly(x, 3)2 -32.1724     1.0075 -31.934  < 2e-16 ***\n",
       "poly(x, 3)3   0.5822     1.0075   0.578    0.565    \n",
       "---\n",
       "Signif. codes:  0 '***' 0.001 '**' 0.01 '*' 0.05 '.' 0.1 ' ' 1\n",
       "\n",
       "(Dispersion parameter for gaussian family taken to be 1.014966)\n",
       "\n",
       "    Null deviance: 1192.815  on 99  degrees of freedom\n",
       "Residual deviance:   97.437  on 96  degrees of freedom\n",
       "AIC: 291.19\n",
       "\n",
       "Number of Fisher Scoring iterations: 2\n"
      ]
     },
     "metadata": {},
     "output_type": "display_data"
    }
   ],
   "source": [
    "glm.fit3 = glm(y ~ poly(x, 3), data=df)\n",
    "summary(glm.fit3)"
   ]
  },
  {
   "cell_type": "code",
   "execution_count": 106,
   "metadata": {
    "collapsed": false
   },
   "outputs": [
    {
     "data": {
      "text/plain": [
       "\n",
       "Call:\n",
       "glm(formula = y ~ poly(x, 4), data = df)\n",
       "\n",
       "Deviance Residuals: \n",
       "     Min        1Q    Median        3Q       Max  \n",
       "-2.71813  -0.65890   0.03747   0.66514   2.06631  \n",
       "\n",
       "Coefficients:\n",
       "             Estimate Std. Error t value Pr(>|t|)    \n",
       "(Intercept)  -2.11569    0.09984 -21.192  < 2e-16 ***\n",
       "poly(x, 4)1   7.74434    0.99836   7.757 9.75e-12 ***\n",
       "poly(x, 4)2 -32.17241    0.99836 -32.225  < 2e-16 ***\n",
       "poly(x, 4)3   0.58224    0.99836   0.583    0.561    \n",
       "poly(x, 4)4   1.65760    0.99836   1.660    0.100    \n",
       "---\n",
       "Signif. codes:  0 '***' 0.001 '**' 0.01 '*' 0.05 '.' 0.1 ' ' 1\n",
       "\n",
       "(Dispersion parameter for gaussian family taken to be 0.9967273)\n",
       "\n",
       "    Null deviance: 1192.815  on 99  degrees of freedom\n",
       "Residual deviance:   94.689  on 95  degrees of freedom\n",
       "AIC: 290.33\n",
       "\n",
       "Number of Fisher Scoring iterations: 2\n"
      ]
     },
     "metadata": {},
     "output_type": "display_data"
    }
   ],
   "source": [
    "glm.fit4 = glm(y ~ poly(x, 4), data=df)\n",
    "summary(glm.fit4)"
   ]
  },
  {
   "cell_type": "code",
   "execution_count": 107,
   "metadata": {
    "collapsed": false
   },
   "outputs": [
    {
     "data": {
      "text/html": [
       "<ol class=list-inline>\n",
       "\t<li>12.946505831683</li>\n",
       "\t<li>1.09193644753743</li>\n",
       "\t<li>1.16935289435345</li>\n",
       "\t<li>1.26353327685796</li>\n",
       "</ol>\n"
      ],
      "text/latex": [
       "\\begin{enumerate*}\n",
       "\\item 12.946505831683\n",
       "\\item 1.09193644753743\n",
       "\\item 1.16935289435345\n",
       "\\item 1.26353327685796\n",
       "\\end{enumerate*}\n"
      ],
      "text/markdown": [
       "1. 12.946505831683\n",
       "2. 1.09193644753743\n",
       "3. 1.16935289435345\n",
       "4. 1.26353327685796\n",
       "\n",
       "\n"
      ],
      "text/plain": [
       "[1] 12.946506  1.091936  1.169353  1.263533"
      ]
     },
     "metadata": {},
     "output_type": "display_data"
    }
   ],
   "source": [
    "cv.err = rep(0, 4)\n",
    "cv.err[1] = cv.glm(df, glm.fit1)$delta[1]\n",
    "cv.err[2] = cv.glm(df, glm.fit2)$delta[1]\n",
    "cv.err[3] = cv.glm(df, glm.fit3)$delta[1]\n",
    "cv.err[4] = cv.glm(df, glm.fit4)$delta[1]\n",
    "cv.err"
   ]
  },
  {
   "cell_type": "markdown",
   "metadata": {},
   "source": [
    "### (d)"
   ]
  },
  {
   "cell_type": "code",
   "execution_count": 108,
   "metadata": {
    "collapsed": false
   },
   "outputs": [
    {
     "data": {
      "text/html": [
       "<ol class=list-inline>\n",
       "\t<li>12.946505831683</li>\n",
       "\t<li>1.09193644753743</li>\n",
       "\t<li>1.16935289435345</li>\n",
       "\t<li>1.26353327685796</li>\n",
       "</ol>\n"
      ],
      "text/latex": [
       "\\begin{enumerate*}\n",
       "\\item 12.946505831683\n",
       "\\item 1.09193644753743\n",
       "\\item 1.16935289435345\n",
       "\\item 1.26353327685796\n",
       "\\end{enumerate*}\n"
      ],
      "text/markdown": [
       "1. 12.946505831683\n",
       "2. 1.09193644753743\n",
       "3. 1.16935289435345\n",
       "4. 1.26353327685796\n",
       "\n",
       "\n"
      ],
      "text/plain": [
       "[1] 12.946506  1.091936  1.169353  1.263533"
      ]
     },
     "metadata": {},
     "output_type": "display_data"
    }
   ],
   "source": [
    "cv.err = rep(0, 4)\n",
    "cv.err[1] = cv.glm(df, glm.fit1)$delta[1]\n",
    "cv.err[2] = cv.glm(df, glm.fit2)$delta[1]\n",
    "cv.err[3] = cv.glm(df, glm.fit3)$delta[1]\n",
    "cv.err[4] = cv.glm(df, glm.fit4)$delta[1]\n",
    "cv.err"
   ]
  },
  {
   "cell_type": "markdown",
   "metadata": {},
   "source": [
    "The results are the same since there is no randomness in the LOOCV split"
   ]
  },
  {
   "cell_type": "markdown",
   "metadata": {},
   "source": [
    "### (e)"
   ]
  },
  {
   "cell_type": "markdown",
   "metadata": {},
   "source": [
    "The quadratic model has the smallest error, but the cubic and the quartic models have very similar errors. This is to be expected since the model generating the model is quadratic and the cubic and quartic models include the quadratic model as a special case."
   ]
  },
  {
   "cell_type": "markdown",
   "metadata": {},
   "source": [
    "### (f)"
   ]
  },
  {
   "cell_type": "code",
   "execution_count": 109,
   "metadata": {
    "collapsed": false
   },
   "outputs": [
    {
     "data": {
      "image/png": "[encoded data removed]",
      "text/plain": [
       "plot without title"
      ]
     },
     "metadata": {},
     "output_type": "display_data"
    }
   ],
   "source": [
    "plot(y~x)\n",
    "lines(sort(x), fitted(glm.fit2)[order(x)], col='red', type='b')\n",
    "lines(sort(x), fitted(glm.fit1)[order(x)], col='blue', type='b')"
   ]
  }
 ],
 "metadata": {
  "kernelspec": {
   "display_name": "R",
   "language": "R",
   "name": "ir"
  },
  "language_info": {
   "codemirror_mode": "r",
   "file_extension": ".r",
   "mimetype": "text/x-r-source",
   "name": "R",
   "pygments_lexer": "r",
   "version": "3.3.1"
  }
 },
 "nbformat": 4,
 "nbformat_minor": 0
}
